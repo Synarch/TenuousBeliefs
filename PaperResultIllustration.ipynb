{
 "cells": [
  {
   "cell_type": "markdown",
   "metadata": {},
   "source": [
    "# Macroeconomic Uncertainty Prices when Beliefs are Tenuous\n",
    "\n",
    "## Overview\n",
    "\n",
    "This notebook is to provide the source code and display the solutions for the paper \"Macroeconomic Uncertainty Prices when Beliefs are Tenuous\" by Professor [Lars Peter Hansen](https://larspeterhansen.org/) and Professor [Thomas J.Sargent](http://www.tomsargent.com/), you could find the latest draft [here](https://larspeterhansen.org/research/papers/). The notebook includes two sections:\n",
    "\n",
    "Author: Jiaming Wang"
   ]
  },
  {
   "cell_type": "markdown",
   "metadata": {
    "toc": true
   },
   "source": [
    "<h1>Table of Contents<span class=\"tocSkip\"></span></h1>\n",
    "<div class=\"toc\"><ul class=\"toc-item\"><li><span><a href=\"#Overview\" data-toc-modified-id=\"Overview-1\"><span class=\"toc-item-num\">1&nbsp;&nbsp;</span>Overview</a></span></li><li><span><a href=\"#Quantitative-Example-in-Section-6\" data-toc-modified-id=\"Quantitative-Example-in-Section-6-2\"><span class=\"toc-item-num\">2&nbsp;&nbsp;</span>Quantitative Example in Section 6</a></span><ul class=\"toc-item\"><li><span><a href=\"#Figure-2\" data-toc-modified-id=\"Figure-2-2.1\"><span class=\"toc-item-num\">2.1&nbsp;&nbsp;</span>Figure 2</a></span></li><li><span><a href=\"#Figure-3-Worst-case-structured-model-growth-rate-drifts.\" data-toc-modified-id=\"Figure-3-Worst-case-structured-model-growth-rate-drifts.-2.2\"><span class=\"toc-item-num\">2.2&nbsp;&nbsp;</span>Figure 3 Worst-case structured model growth rate drifts.</a></span></li><li><span><a href=\"#Figure-5-Growth-rate-drifts-for-z\" data-toc-modified-id=\"Figure-5-Growth-rate-drifts-for-z-2.3\"><span class=\"toc-item-num\">2.3&nbsp;&nbsp;</span>Figure 5 Growth rate drifts for z</a></span></li><li><span><a href=\"#Interactive-growth-rate-drift-plot\" data-toc-modified-id=\"Interactive-growth-rate-drift-plot-2.4\"><span class=\"toc-item-num\">2.4&nbsp;&nbsp;</span>Interactive growth rate drift plot</a></span></li><li><span><a href=\"#Figure-6-Uncertainty-components-of-the-shock-price-elasticities-as-measured-by-$-E(M_t^{U*}U_t^*|Z_0=z)$\" data-toc-modified-id=\"Figure-6-Uncertainty-components-of-the-shock-price-elasticities-as-measured-by-$-E(M_t^{U*}U_t^*|Z_0=z)$-2.5\"><span class=\"toc-item-num\">2.5&nbsp;&nbsp;</span>Figure 6 Uncertainty components of the shock price elasticities as measured by $-E(M_t^{U*}U_t^*|Z_0=z)$</a></span></li><li><span><a href=\"#Figure-7-Contribution-to-shock-price-elasticities-for-alternative-horions\" data-toc-modified-id=\"Figure-7-Contribution-to-shock-price-elasticities-for-alternative-horions-2.6\"><span class=\"toc-item-num\">2.6&nbsp;&nbsp;</span>Figure 7 Contribution to shock price elasticities for alternative horions</a></span></li><li><span><a href=\"#Interactive-Shock-Elasticity-Decomposition-plot\" data-toc-modified-id=\"Interactive-Shock-Elasticity-Decomposition-plot-2.7\"><span class=\"toc-item-num\">2.7&nbsp;&nbsp;</span>Interactive Shock Elasticity Decomposition plot</a></span></li></ul></li><li><span><a href=\"#A-User-friendly-Interface-for-Model-Solutions\" data-toc-modified-id=\"A-User-friendly-Interface-for-Model-Solutions-3\"><span class=\"toc-item-num\">3&nbsp;&nbsp;</span>A User-friendly Interface for Model Solutions</a></span></li></ul></div>"
   ]
  },
  {
   "cell_type": "code",
   "execution_count": null,
   "metadata": {
    "ExecuteTime": {
     "end_time": "2019-12-12T17:24:01.949932Z",
     "start_time": "2019-12-12T17:24:00.164911Z"
    }
   },
   "outputs": [],
   "source": [
    "# Test running environment: if running \n",
    "try:\n",
    "    import google.colab\n",
    "    IN_COLAB = True\n",
    "except:\n",
    "    IN_COLAB = False\n",
    "if IN_COLAB == True:\n",
    "    import os\n",
    "    if 'TenuousBeliefs' not in os.listdir():\n",
    "        !git clone https://github.com/lphansen/TenuousBeliefs.git\n",
    "    os.chdir(\"TenuousBeliefs\")\n",
    "# Import packages\n",
    "from Tenuous import *\n",
    "from widgets import *\n",
    "from IPython.core.display import display"
   ]
  },
  {
   "cell_type": "markdown",
   "metadata": {},
   "source": [
    "## Quantitative Example in Section 6\n",
    "we deduce following parameters for our baseline model by estimating the discrete-time VAR. More details could be found in Appendix B of the paper.\n",
    "\\begin{align}  \\label{pdivparameters}\n",
    "& \\begin{matrix}\n",
    "  {\\widehat \\alpha}_c  & = & .484 & & {\\widehat \\beta}_c &= &1 \\cr\n",
    "{\\widehat \\alpha}_z  &= & 0 &  & {\\widehat \\beta}_z & = & .014  \\end{matrix} \\cr\n",
    "&  (\\sigma_c)' = \\begin{bmatrix} .477 &  0 \\end{bmatrix} \\cr\n",
    "&  (\\sigma_z)' = \\begin{bmatrix}  .011 & .025 \\end{bmatrix}\n",
    "\\end{align}\n",
    "\n",
    "We suppose that $\\delta = .002.$\n",
    " Under this model, the standard deviation of the $Z$ process in the implied stationary distribution is .163.\n",
    " \n",
    "We start by loading our pre-solved model that runs ${\\sf q}_{s,0}$ from 0 to 0.1 at 0.01 intervals and  ${\\sf q}_{s,0}$ from 0 to 0.2 at 0.02 intervals"
   ]
  },
  {
   "cell_type": "code",
   "execution_count": null,
   "metadata": {
    "ExecuteTime": {
     "end_time": "2019-12-12T17:24:01.983854Z",
     "start_time": "2019-12-12T17:24:01.951925Z"
    },
    "scrolled": true
   },
   "outputs": [],
   "source": [
    "s = Plottingmodule()"
   ]
  },
  {
   "cell_type": "markdown",
   "metadata": {},
   "source": [
    "### Figure 2\n",
    "\n",
    "As stated in the paper, we compute a solution by first focusing on an Illustration 4.1 specification in which $\\rho_1 = 0$ and $\\rho_2$ satisfies:\n",
    "$\n",
    "\\rho_2 = {\\frac {\\sf q_{s,0}^2} {|\\sigma_z|^2}}\n",
    "$\n",
    "\n",
    "When $\\eta$ is restricted to be $\\eta_1(z - {\\bar z})$,\n",
    "a given value of ${\\sf q_{s,0}}$  imposes\n",
    "a restriction on $\\eta_1$ and implicitly on $(\\beta_c, \\beta_k)$. The following figure plots iso-entropy contours for $(\\beta_c, \\beta_z)$\n",
    "associated with   ${\\sf q}_{s,0} = 0$ and ${\\sf q}_{s,0}= .15$ respectively. \n",
    "\n",
    "User could toggle the slider  in Figure 2 to see how tis contour evolve according to change of ${\\sf q}_{s,0}$. The relative Entropy value is show in the legend. The blue dot in the middle of the graph denotes baselin model"
   ]
  },
  {
   "cell_type": "code",
   "execution_count": null,
   "metadata": {
    "ExecuteTime": {
     "end_time": "2019-12-12T17:24:05.897167Z",
     "start_time": "2019-12-12T17:24:01.985835Z"
    }
   },
   "outputs": [],
   "source": [
    "s.Figure2()"
   ]
  },
  {
   "cell_type": "markdown",
   "metadata": {},
   "source": [
    "### Figure 3 Worst-case structured model growth rate drifts.\n",
    "\n",
    "__Figure 3 shows adjustments of the drifts due to  aversion to not knowing which structured model is best\n",
    " and to concerns about  misspecifications of the structured models.__\n",
    " \n",
    " Setting $\\theta = \\infty$  silences concerns about misspecification of the structured models, all of which are expressed through\n",
    " minimization over $s$ where we name it as Worst Case Scenario\n",
    " \n",
    " We then activate a concern for misspecification\n",
    "of the structured models by setting $\\theta$ to attain targeted values of ${\\sf q}_{u,s}$ computed using the structured and unstructured worst-case models.\n",
    "\n",
    "Left panel: Smaller Structured Entropy ${\\sf q}_{s,0}= 0.05$; Right Panel: Larger Structured Entropy ${\\sf q}_{s,0}= 0.1$\n",
    "\n",
    "Red dot line indicates the worst case structured model; grenn dash-dot denotes the unstructured model with ${\\sf q}_{u,s}= 0.2$; Blue line denotes the nstructured model with ${\\sf q}_{u,s}= 0.1$"
   ]
  },
  {
   "cell_type": "code",
   "execution_count": null,
   "metadata": {
    "ExecuteTime": {
     "end_time": "2019-12-12T17:24:06.136959Z",
     "start_time": "2019-12-12T17:24:05.899101Z"
    }
   },
   "outputs": [],
   "source": [
    "s.DriftComparison()"
   ]
  },
  {
   "cell_type": "markdown",
   "metadata": {},
   "source": [
    "### Figure 5 Growth rate drifts for z\n",
    "\n",
    "Until now,  we have imposed that the alternative structured models have no drift distortions  for $Z$ at $Z_t = {\\bar z}$\n",
    "by setting\n",
    "$\n",
    "\\rho_2 =  {\\frac {{\\sf q}}{|\\sigma_z|^2}} .\n",
    "$\n",
    "__We now alter this restriction by cutting the value of ${\\rho_2}$ in half.\n",
    "Consequences of this change are depicted in the right panel of  Figure 5.__  \n",
    "\n",
    "Left panel: $\\rho = \\frac{(.01)}{|\\sigma^2|}$; Right Panel: $\\rho = \\frac{(.01)}{2|\\sigma^2|}$\n",
    "\n",
    "Red dot line indicates the worst case structured model; grenn dash-dot denotes the unstructured model with ${\\sf q}_{s,0}$ = 0.2; Blue line denotes the unstructured model with ${\\sf q}_{u,s}$ = 0.1\n",
    "\n",
    "For sake of comparison, this figure  includes the  previous specification in the left panel.\n",
    "The worst-case structured drifts no longer coincide with the baseline drift at $z = {\\bar z}$ and now vary smoothly in the vicinity of  $z = {\\bar z}$."
   ]
  },
  {
   "cell_type": "code",
   "execution_count": null,
   "metadata": {
    "ExecuteTime": {
     "end_time": "2019-12-12T17:24:06.394412Z",
     "start_time": "2019-12-12T17:24:06.137956Z"
    }
   },
   "outputs": [],
   "source": [
    "s.DriftComparison(0.1, [0.5,1]) # rho 2"
   ]
  },
  {
   "cell_type": "markdown",
   "metadata": {},
   "source": [
    "### Interactive growth rate drift plot\n",
    "To let users better understand how ${\\sf q}_{s,0}$ and ${\\sf q}_{u,s}$ affect growth rate drift, we provide an interactive plot with a slider to change ${\\sf q}_{s,0}$ or ${\\sf q}_{u,s}$ by user's intention.\n",
    "\n",
    "To call the interactive plot at arbitray level of ${\\sf q}_{s,0}$ or ${\\sf q}_{u,s}$, simply run the function __s.driftIntPlot(some constraints)__ where s is an instance for Tenuousmodel class that stored solutions under our suggested settings. By imposing ${\\sf q}_{s,0}$ = 0.10 we can see how growth drift rate changes as ${\\sf q}_{u,s}$ varies when ${\\sf q}_{s,0}$ = 0.10. Similarly we can see how ${\\sf q}_{s,0}$ changes growth drifts by specifying levels for ${\\sf q}_{u,s}$\n",
    "\n",
    "Our pre-saved values for this notebook supported values 0 to 0.1 at 0.01 increments for ${\\sf q}_{s,0}$ and 0 to 0.2 at 0.02 increments for ${\\sf q}_{u,s}$ "
   ]
  },
  {
   "cell_type": "code",
   "execution_count": null,
   "metadata": {
    "ExecuteTime": {
     "end_time": "2019-12-12T17:24:06.698559Z",
     "start_time": "2019-12-12T17:24:06.395343Z"
    }
   },
   "outputs": [],
   "source": [
    "s.driftIntPlot(qus = 0.20)"
   ]
  },
  {
   "cell_type": "code",
   "execution_count": null,
   "metadata": {
    "ExecuteTime": {
     "end_time": "2019-12-12T17:24:07.125760Z",
     "start_time": "2019-12-12T17:24:06.700531Z"
    }
   },
   "outputs": [],
   "source": [
    "s.driftIntPlot(q0s = 0.10)"
   ]
  },
  {
   "cell_type": "markdown",
   "metadata": {},
   "source": [
    "### Figure 6 Uncertainty components of the shock price elasticities as measured by $-E(M_t^{U*}U_t^*|Z_0=z)$\n",
    "Dependency of the  term structure of  shock elasticities on the economic growth state encodes an  interesting  asymmetry in valuations and their sources.\n",
    "We  use two figures to bring out  how nonlinearities in  valuation dynamics play out across investment horizons. \n",
    "Figure 6 shows shock price elasticities for our economy setting.\n",
    "\n",
    "We feature the case in which  ${\\sf q}_{u,s} = .2.$  Each of the  two Brownian increments in our baseline model  has its own term structure of elasticities. \n",
    " Black solid denotes median of the Z stationary distribution; Red dot line indicates the .1 decile; Blue dashed denotes .9 decile"
   ]
  },
  {
   "cell_type": "code",
   "execution_count": null,
   "metadata": {
    "ExecuteTime": {
     "end_time": "2019-12-12T17:24:07.436554Z",
     "start_time": "2019-12-12T17:24:07.128753Z"
    }
   },
   "outputs": [],
   "source": [
    "s.Figure6()"
   ]
  },
  {
   "cell_type": "markdown",
   "metadata": {},
   "source": [
    "### Figure 7 Contribution to shock price elasticities for alternative horions\n",
    "Figure 7 plots \n",
    "the separate components of these elasticities  defined  by the right-hand side of equation:\n",
    "\\begin{matrix}\n",
    "- E\\left( M_t^{U^*}U_t^* \\mid Z_0 = z \\right)  = & - E\\left( M_t^{U^*}S_t^* \\vert Z_0 = z \\right)  & - E\\left[ M_t^{U^*}\n",
    "\\left(U_t^* - S_t^* \\right)  \\mid Z_0 = z \\right]  .\\cr\n",
    " \\textbf{uncertainty price} & \\textbf{ambiguity price}  & \\textbf{misspecification price} \\cr \\textbf{elasticity} & \\textbf{elasticity} \n",
    " & \\textbf{elasticity} \n",
    "\\end{matrix}\n"
   ]
  },
  {
   "cell_type": "code",
   "execution_count": null,
   "metadata": {
    "ExecuteTime": {
     "end_time": "2019-12-12T17:24:07.873935Z",
     "start_time": "2019-12-12T17:24:07.438551Z"
    },
    "scrolled": false
   },
   "outputs": [],
   "source": [
    "s.Figure7()"
   ]
  },
  {
   "cell_type": "markdown",
   "metadata": {},
   "source": [
    "### Interactive Shock Elasticity Decomposition plot\n",
    "To let users better understand how ${\\sf q}_{s,0}$ and ${\\sf q}_{u,s}$ affect shock price elasticities, we provide the following interactive plots with a slider to change  𝗊𝑠,0  or  𝗊𝑢,𝑠  by user's intention.\n",
    "\n",
    "Similarly, to call the interactive plot at arbitray level of ${\\sf q}_{s,0}$ or ${\\sf q}_{u,s}$, run the function __s.shocksIntPlot(some constraints)__ as in interactive drift plots\n",
    "\n",
    "Again, our pre-saved values for this notebook supported values 0 to 0.1 at 0.01 increments for ${\\sf q}_{s,0}$ and 0 to 0.2 at 0.02 increments for ${\\sf q}_{u,s}$"
   ]
  },
  {
   "cell_type": "code",
   "execution_count": null,
   "metadata": {
    "ExecuteTime": {
     "end_time": "2019-12-12T17:24:10.464866Z",
     "start_time": "2019-12-12T17:24:07.874933Z"
    }
   },
   "outputs": [],
   "source": [
    "s.shocksIntPlot(q0s = 0.1)"
   ]
  },
  {
   "cell_type": "code",
   "execution_count": null,
   "metadata": {
    "ExecuteTime": {
     "end_time": "2019-12-12T17:24:12.991928Z",
     "start_time": "2019-12-12T17:24:10.467860Z"
    }
   },
   "outputs": [],
   "source": [
    "s.shocksIntPlot(qus = 0.2)"
   ]
  },
  {
   "cell_type": "markdown",
   "metadata": {},
   "source": [
    "## A User-friendly Interface for Model Solutions\n",
    "Here we provide an interactive module for arbitrary parameter values with our paper setting. \n",
    "\n",
    "User may specify arbitrary parameter values in the table below, solve the model and generate drift and shock elasticity plots accordingly. Solving model normally take less than 10 minutes, please click __Plot__ after the message \"Model Solved\". "
   ]
  },
  {
   "cell_type": "code",
   "execution_count": null,
   "metadata": {
    "ExecuteTime": {
     "end_time": "2019-12-12T17:24:13.018854Z",
     "start_time": "2019-12-12T17:24:12.993925Z"
    },
    "scrolled": false
   },
   "outputs": [],
   "source": [
    "display(line1,line2, VBox([button_update,button_solve, button_plot])) "
   ]
  },
  {
   "cell_type": "code",
   "execution_count": null,
   "metadata": {},
   "outputs": [],
   "source": []
  }
 ],
 "metadata": {
  "kernelspec": {
   "display_name": "Python 3",
   "language": "python",
   "name": "python3"
  },
  "language_info": {
   "codemirror_mode": {
    "name": "ipython",
    "version": 3
   },
   "file_extension": ".py",
   "mimetype": "text/x-python",
   "name": "python",
   "nbconvert_exporter": "python",
   "pygments_lexer": "ipython3",
   "version": "3.7.3"
  },
  "toc": {
   "base_numbering": 1,
   "nav_menu": {},
   "number_sections": true,
   "sideBar": true,
   "skip_h1_title": true,
   "title_cell": "Table of Contents",
   "title_sidebar": "Contents",
   "toc_cell": true,
   "toc_position": {},
   "toc_section_display": true,
   "toc_window_display": true
  },
  "varInspector": {
   "cols": {
    "lenName": 16,
    "lenType": 16,
    "lenVar": 40
   },
   "kernels_config": {
    "python": {
     "delete_cmd_postfix": "",
     "delete_cmd_prefix": "del ",
     "library": "var_list.py",
     "varRefreshCmd": "print(var_dic_list())"
    },
    "r": {
     "delete_cmd_postfix": ") ",
     "delete_cmd_prefix": "rm(",
     "library": "var_list.r",
     "varRefreshCmd": "cat(var_dic_list()) "
    }
   },
   "types_to_exclude": [
    "module",
    "function",
    "builtin_function_or_method",
    "instance",
    "_Feature"
   ],
   "window_display": false
  }
 },
 "nbformat": 4,
 "nbformat_minor": 2
}
